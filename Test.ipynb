{
 "cells": [
  {
   "cell_type": "code",
   "execution_count": 9,
   "id": "f4cc8be7",
   "metadata": {},
   "outputs": [],
   "source": [
    "import numpy as np\n",
    "import pandas as pd"
   ]
  },
  {
   "cell_type": "code",
   "execution_count": 2,
   "id": "7770dd3b",
   "metadata": {},
   "outputs": [],
   "source": [
    "Graph = {'From':['kandhanchavadi','kandhanchavadi','srp stop'],\n",
    "        'To':['tidel park','t nagar','tidel park'],\n",
    "        'Signals':[['s1','s2'],['s1'],['s1','s2','s3']]}"
   ]
  },
  {
   "cell_type": "code",
   "execution_count": 3,
   "id": "ee8f30cc",
   "metadata": {},
   "outputs": [],
   "source": [
    "df_graph = pd.DataFrame(Graph)"
   ]
  },
  {
   "cell_type": "code",
   "execution_count": 4,
   "id": "ebec123d",
   "metadata": {
    "scrolled": true
   },
   "outputs": [
    {
     "data": {
      "text/html": [
       "<div>\n",
       "<style scoped>\n",
       "    .dataframe tbody tr th:only-of-type {\n",
       "        vertical-align: middle;\n",
       "    }\n",
       "\n",
       "    .dataframe tbody tr th {\n",
       "        vertical-align: top;\n",
       "    }\n",
       "\n",
       "    .dataframe thead th {\n",
       "        text-align: right;\n",
       "    }\n",
       "</style>\n",
       "<table border=\"1\" class=\"dataframe\">\n",
       "  <thead>\n",
       "    <tr style=\"text-align: right;\">\n",
       "      <th></th>\n",
       "      <th>From</th>\n",
       "      <th>To</th>\n",
       "      <th>Signals</th>\n",
       "    </tr>\n",
       "  </thead>\n",
       "  <tbody>\n",
       "    <tr>\n",
       "      <th>0</th>\n",
       "      <td>kandhanchavadi</td>\n",
       "      <td>tidel park</td>\n",
       "      <td>[s1, s2]</td>\n",
       "    </tr>\n",
       "    <tr>\n",
       "      <th>1</th>\n",
       "      <td>kandhanchavadi</td>\n",
       "      <td>t nagar</td>\n",
       "      <td>[s1]</td>\n",
       "    </tr>\n",
       "    <tr>\n",
       "      <th>2</th>\n",
       "      <td>srp stop</td>\n",
       "      <td>tidel park</td>\n",
       "      <td>[s1, s2, s3]</td>\n",
       "    </tr>\n",
       "  </tbody>\n",
       "</table>\n",
       "</div>"
      ],
      "text/plain": [
       "             From          To       Signals\n",
       "0  kandhanchavadi  tidel park      [s1, s2]\n",
       "1  kandhanchavadi     t nagar          [s1]\n",
       "2        srp stop  tidel park  [s1, s2, s3]"
      ]
     },
     "execution_count": 4,
     "metadata": {},
     "output_type": "execute_result"
    }
   ],
   "source": [
    "df_graph"
   ]
  },
  {
   "cell_type": "code",
   "execution_count": 22,
   "id": "e3d7f012",
   "metadata": {},
   "outputs": [
    {
     "name": "stdout",
     "output_type": "stream",
     "text": [
      "Where you are inkandhanchavadi\n",
      "Destinationtidel park\n"
     ]
    }
   ],
   "source": [
    "from_place=input(\"Where you are in\")\n",
    "to_place=input(\"Destination\")"
   ]
  },
  {
   "cell_type": "code",
   "execution_count": 23,
   "id": "cfe23b08",
   "metadata": {},
   "outputs": [
    {
     "name": "stdout",
     "output_type": "stream",
     "text": [
      "['s1', 's2']\n"
     ]
    }
   ],
   "source": [
    "for i in range(len(df_graph)):\n",
    "    if(df_graph.iloc[i,0]==from_place,df_graph.iloc[i,1]==to_place):\n",
    "        print(df_graph.iloc[i,2])\n",
    "        break"
   ]
  },
  {
   "cell_type": "code",
   "execution_count": null,
   "id": "c99048fd",
   "metadata": {},
   "outputs": [],
   "source": []
  },
  {
   "cell_type": "code",
   "execution_count": null,
   "id": "def605a0",
   "metadata": {},
   "outputs": [],
   "source": []
  },
  {
   "cell_type": "code",
   "execution_count": null,
   "id": "5061c396",
   "metadata": {},
   "outputs": [],
   "source": []
  }
 ],
 "metadata": {
  "kernelspec": {
   "display_name": "Python 3 (ipykernel)",
   "language": "python",
   "name": "python3"
  },
  "language_info": {
   "codemirror_mode": {
    "name": "ipython",
    "version": 3
   },
   "file_extension": ".py",
   "mimetype": "text/x-python",
   "name": "python",
   "nbconvert_exporter": "python",
   "pygments_lexer": "ipython3",
   "version": "3.10.4"
  }
 },
 "nbformat": 4,
 "nbformat_minor": 5
}
