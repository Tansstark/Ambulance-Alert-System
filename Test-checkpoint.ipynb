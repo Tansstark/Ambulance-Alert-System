{
 "cells": [
  {
   "cell_type": "code",
   "execution_count": null,
   "id": "f4cc8be7",
   "metadata": {},
   "outputs": [],
   "source": [
    "import numpy as np\n",
    "import pandas as pd"
   ]
  },
  {
   "cell_type": "code",
   "execution_count": null,
   "id": "7770dd3b",
   "metadata": {},
   "outputs": [],
   "source": [
    "Graph = {'From':['kandhanchavadi','kandhanchavadi','srp stop'],\n",
    "        'To':['tidel park','t nagar','tidel park'],\n",
    "        'Signals':[['s1','s2'],['s1'],['s1','s2','s3']]}"
   ]
  },
  {
   "cell_type": "code",
   "execution_count": null,
   "id": "ee8f30cc",
   "metadata": {},
   "outputs": [],
   "source": [
    "df_graph = pd.DataFrame(Graph)"
   ]
  },
  {
   "cell_type": "code",
   "execution_count": null,
   "id": "ebec123d",
   "metadata": {},
   "outputs": [],
   "source": []
  },
  {
   "cell_type": "code",
   "execution_count": null,
   "id": "cfe23b08",
   "metadata": {},
   "outputs": [],
   "source": []
  },
  {
   "cell_type": "code",
   "execution_count": null,
   "id": "c99048fd",
   "metadata": {},
   "outputs": [],
   "source": []
  },
  {
   "cell_type": "code",
   "execution_count": null,
   "id": "def605a0",
   "metadata": {},
   "outputs": [],
   "source": [
    "#from_place=input(\"Where you are in\")\n",
    "#to_place=input(\"Destination\")"
   ]
  },
  {
   "cell_type": "code",
   "execution_count": null,
   "id": "5061c396",
   "metadata": {},
   "outputs": [],
   "source": []
  }
 ],
 "metadata": {
  "kernelspec": {
   "display_name": "Python 3 (ipykernel)",
   "language": "python",
   "name": "python3"
  },
  "language_info": {
   "codemirror_mode": {
    "name": "ipython",
    "version": 3
   },
   "file_extension": ".py",
   "mimetype": "text/x-python",
   "name": "python",
   "nbconvert_exporter": "python",
   "pygments_lexer": "ipython3",
   "version": "3.10.4"
  }
 },
 "nbformat": 4,
 "nbformat_minor": 5
}
